{
 "cells": [
  {
   "cell_type": "markdown",
   "metadata": {},
   "source": [
    "# STFT Model #\n",
    "\n",
    "An STFT analysis and synthesis notebook.\n",
    "\n",
    "First we set up the environment."
   ]
  },
  {
   "cell_type": "code",
   "execution_count": 1,
   "metadata": {
    "scrolled": true
   },
   "outputs": [],
   "source": [
    "%matplotlib inline\n",
    "\n",
    "import math, copy, sys, os\n",
    "import numpy as np\n",
    "import matplotlib.pyplot as plt\n",
    "import ipywidgets as widgets\n",
    "import IPython.display as ipd\n",
    "import glob\n",
    "from scipy.fftpack import fft, ifft, fftshift\n",
    "from scipy.signal import blackmanharris, triang, get_window\n",
    "from scipy.io.wavfile import write, read\n",
    "from sys import platform\n",
    "from ipywidgets import interact, interact_manual, interactive\n",
    "\n",
    "tol = 1e-14 # threshold used to compute phase\n",
    "INT16_FAC = (2**15)-1\n",
    "INT32_FAC = (2**31)-1\n",
    "INT64_FAC = (2**63)-1\n",
    "norm_fact = {'int16':INT16_FAC, 'int32':INT32_FAC, 'int64':INT64_FAC,'float32':1.0,'float64':1.0}\n",
    "\n",
    "global iF  # The input file name\n",
    "global xR  # The raw input samples \n",
    "global x   # The input samples normalized\n",
    "global fs  # The input sample rate\n",
    "global N   # The FFT size\n",
    "global w   # The window\n",
    "global wN  # The window name\n",
    "global M   # The window size\n",
    "global H   # The hop size\n",
    "global mX  # The magnitude spectrum of the input\n",
    "global pX  # The phase spectrum of the input\n",
    "global y   # The re-synthesized output\n",
    "global yR  # The raw re-synthesized output"
   ]
  },
  {
   "cell_type": "markdown",
   "metadata": {},
   "source": [
    "Now we define some methods to perform the different steps of the model"
   ]
  },
  {
   "cell_type": "markdown",
   "metadata": {},
   "source": [
    "***dft_analysis***\n",
    "\n",
    "Analysis of a signal using the discrete Fourier transform \n",
    "\n",
    "Params\n",
    "\n",
    "* x: input signal \n",
    "* w: analysis window, \n",
    "* N: FFT size \n",
    "\n",
    "Returns \n",
    "\n",
    "* mX: magnitude spectrum\n",
    "* pX: phase spectrum"
   ]
  },
  {
   "cell_type": "code",
   "execution_count": 2,
   "metadata": {},
   "outputs": [],
   "source": [
    "def dft_analysis(x, w, N):\n",
    "    if (w.size > N):                                        # raise error if window size bigger than fft size\n",
    "        raise ValueError(\"Window size (M) is bigger than FFT size\")\n",
    "\n",
    "    hN = (N//2)+1                                           # size of positive spectrum, it includes sample 0\n",
    "    hM1 = (w.size+1)//2                                     # half analysis window size by rounding\n",
    "    hM2 = w.size//2                                         # half analysis window size by floor\n",
    "    fftbuffer = np.zeros(N)                                 # initialize buffer for FFT\n",
    "    w = w / sum(w)                                          # normalize analysis window\n",
    "    xw = x*w                                                # window the input sound\n",
    "    fftbuffer[:hM1] = xw[hM2:]                              # zero-phase window in fftbuffer\n",
    "    fftbuffer[-hM2:] = xw[:hM2]        \n",
    "    X = fft(fftbuffer)                                      # compute FFT\n",
    "    absX = abs(X[:hN])                                      # compute ansolute value of positive side\n",
    "    absX[absX<np.finfo(float).eps] = np.finfo(float).eps    # if zeros add epsilon to handle log\n",
    "    mX = 20 * np.log10(absX)                                # magnitude spectrum of positive frequencies in dB\n",
    "    X[:hN].real[np.abs(X[:hN].real) < tol] = 0.0            # for phase calculation set to 0 the small values\n",
    "    X[:hN].imag[np.abs(X[:hN].imag) < tol] = 0.0            # for phase calculation set to 0 the small values         \n",
    "    pX = np.unwrap(np.angle(X[:hN]))                        # unwrapped phase spectrum of positive frequencies\n",
    "    return mX, pX"
   ]
  },
  {
   "cell_type": "markdown",
   "metadata": {},
   "source": [
    "***stft_analysis*** \n",
    "\n",
    "Analysis of a sound using the short-time Fourier transform\n",
    "\n",
    "Params\n",
    "\n",
    "* x: input array sound\n",
    "* w: analysis window\n",
    "* N: FFT size\n",
    "* H: hop size\n",
    "\n",
    "Returns \n",
    "\n",
    "* xmX: magnitude spectra\n",
    "* xpX: phase spectra"
   ]
  },
  {
   "cell_type": "code",
   "execution_count": 3,
   "metadata": {},
   "outputs": [],
   "source": [
    "def stft_analysis(x, w, N, H) :\n",
    "    if (H <= 0):                                   # raise error if hop size 0 or negative\n",
    "        raise ValueError(\"Hop size (H) smaller or equal to 0\")\n",
    "\n",
    "    M = w.size                                      # size of analysis window\n",
    "    hM1 = (M+1)//2                                  # half analysis window size by rounding\n",
    "    hM2 = M//2                                      # half analysis window size by floor\n",
    "    x = np.append(np.zeros(hM2),x)                  # add zeros at beginning to center first window at sample 0\n",
    "    x = np.append(x,np.zeros(hM2))                  # add zeros at the end to analyze last sample\n",
    "    pin = hM1                                       # initialize sound pointer in middle of analysis window       \n",
    "    pend = x.size-hM1                               # last sample to start a frame\n",
    "    w = w / sum(w)                                  # normalize analysis window\n",
    "    xmX = []                                       # Initialise empty list for mX\n",
    "    xpX = []                                       # Initialise empty list for pX\n",
    "    while pin<=pend:                                # while sound pointer is smaller than last sample      \n",
    "        x1 = x[pin-hM1:pin+hM2]                     # select one frame of input sound\n",
    "        mX, pX = dft_analysis(x1, w, N)             # compute dft\n",
    "        xmX.append(np.array(mX))                    # Append output to list\n",
    "        xpX.append(np.array(pX))\n",
    "        pin += H                                    # advance sound pointer\n",
    "    xmX = np.array(xmX)                             # Convert to numpy array\n",
    "    xpX = np.array(xpX)\n",
    "    return xmX, xpX"
   ]
  },
  {
   "cell_type": "markdown",
   "metadata": {},
   "source": [
    "***dft_synthesis***\n",
    "\n",
    "Synthesis of a signal using the discrete Fourier transform\n",
    "\n",
    "Params\n",
    "\n",
    "* mX: magnitude spectrum \n",
    "* pX: phase spectrum\n",
    "* M: window size\n",
    "\n",
    "Returns \n",
    "\n",
    "* y: output signal"
   ]
  },
  {
   "cell_type": "code",
   "execution_count": 4,
   "metadata": {},
   "outputs": [],
   "source": [
    "def dft_synthesis(mX, pX, M):\n",
    "    hN = mX.size                                            # size of positive spectrum, it includes sample 0\n",
    "    N = (hN-1)*2                                            # FFT size\n",
    "    hM1 = int(math.floor((M+1)/2))                          # half analysis window size by rounding\n",
    "    hM2 = int(math.floor(M/2))                              # half analysis window size by floor\n",
    "    fftbuffer = np.zeros(N)                                 # initialize buffer for FFT\n",
    "    y = np.zeros(M)                                         # initialize output array\n",
    "    Y = np.zeros(N, dtype = complex)                        # clean output spectrum\n",
    "    Y[:hN] = 10**(mX/20) * np.exp(1j*pX)                    # generate positive frequencies\n",
    "    Y[hN:] = 10**(mX[-2:0:-1]/20) * np.exp(-1j*pX[-2:0:-1]) # generate negative frequencies\n",
    "    fftbuffer = np.real(ifft(Y))                            # compute inverse FFT\n",
    "    y[:hM2] = fftbuffer[-hM2:]                              # undo zero-phase window\n",
    "    y[hM2:] = fftbuffer[:hM1]\n",
    "    return y"
   ]
  },
  {
   "cell_type": "markdown",
   "metadata": {},
   "source": [
    "***stft_synthesis***\n",
    "\n",
    "Synthesis of a sound using the short-time Fourier transform\n",
    "\n",
    "* mY: magnitude spectra\n",
    "* pY: phase spectra\n",
    "* M: window size \n",
    "* H: hop-size\n",
    "\n",
    "Returns \n",
    "\n",
    "* y: output sound"
   ]
  },
  {
   "cell_type": "code",
   "execution_count": 5,
   "metadata": {},
   "outputs": [],
   "source": [
    "def stft_synthesis(mY, pY, M, H) :\n",
    "    hM1 = (M+1)//2                                   # half analysis window size by rounding\n",
    "    hM2 = M//2                                       # half analysis window size by floor\n",
    "    nFrames = mY[:,0].size                           # number of frames\n",
    "    y = np.zeros(nFrames*H + hM1 + hM2)              # initialize output array\n",
    "    pin = hM1                  \n",
    "    for i in range(nFrames):                         # iterate over all frames      \n",
    "        y1 = dft_synthesis(mY[i,:], pY[i,:], M)           # compute idft\n",
    "        y[pin-hM1:pin+hM2] += H*y1                   # overlap-add to generate output sound\n",
    "        pin += H                                     # advance sound pointer\n",
    "    y = np.delete(y, range(hM2))                     # delete half of first window which was added in stftAnal\n",
    "    y = np.delete(y, range(y.size-hM1, y.size))      # delete the end of the sound that was added in stftAnal\n",
    "    return y"
   ]
  },
  {
   "cell_type": "markdown",
   "metadata": {},
   "source": [
    "***stft_system***\n",
    "\n",
    "STFT analysis and re-synthesis system. Performs an STFT analysis of a signal and then re-synthesizes it\n",
    "\n",
    "Params\n",
    "\n",
    "* p_N:  The FFT size\n",
    "* p_M:  The window size\n",
    "* p_H:  The hop size\n",
    "* p_wN: The name of the window funtion to use\n",
    "\n",
    "Returns void\n",
    "\n",
    "Plots the input waveform, the magnitude and phase spectra, and the re-synthesized output waveform and allows the output to be played back\n"
   ]
  },
  {
   "cell_type": "code",
   "execution_count": 6,
   "metadata": {},
   "outputs": [],
   "source": [
    "def stft_system(p_N, p_M, p_H, p_wN):\n",
    "    global N, M, H, wN, w, mX, pX, y, yR\n",
    "    \n",
    "    # Set the analysis parameters\n",
    "    N = p_N\n",
    "    M = p_M if p_M <= N else N\n",
    "    H = p_H if p_H <= M//2 else M//2\n",
    "    wN = p_wN\n",
    "    w = get_window(wN, M)\n",
    "    \n",
    "    # Do the analysis step\n",
    "    mX, pX = stft_analysis(x, w, N, H)\n",
    "    \n",
    "    # Do the synthesis step\n",
    "    y = stft_synthesis(mX, pX, M, H)\n",
    "    yR = copy.deepcopy(y)                         # copy array\n",
    "    yR *= INT16_FAC                               # scaling floating point -1 to 1 range signal to int16 range\n",
    "    yR = np.int16(yR)      \n",
    "    \n",
    "    # create figure to plot\n",
    "    plt.figure(figsize=(17, 20))\n",
    "\n",
    "    # frequency range to plot\n",
    "    maxplotfreq = 5000.0\n",
    "\n",
    "    # plot the input sound\n",
    "    plt.subplot(4,1,1)\n",
    "    plt.plot(np.arange(x.size)/float(fs), x)\n",
    "    plt.axis([0, x.size/float(fs), min(x), max(x)])\n",
    "    plt.ylabel('amplitude')\n",
    "    plt.xlabel('time (sec)')\n",
    "    plt.title('input sound: x')\n",
    "\n",
    "    # plot magnitude spectrogram\n",
    "    plt.subplot(4,1,2)\n",
    "    numFrames = int(mX[:,0].size)\n",
    "    frmTime = H*np.arange(numFrames)/float(fs)\n",
    "    binFreq = fs*np.arange(N*maxplotfreq/fs)/N\n",
    "    plt.pcolormesh(frmTime, binFreq, np.transpose(mX[:,:int(N*maxplotfreq/fs+1)]))\n",
    "    plt.xlabel('time (sec)')\n",
    "    plt.ylabel('frequency (Hz)')\n",
    "    plt.title('magnitude spectrogram')\n",
    "    plt.autoscale(tight=True)\n",
    "\n",
    "    # plot the phase spectrogram\n",
    "    plt.subplot(4,1,3)\n",
    "    numFrames = int(pX[:,0].size)\n",
    "    frmTime = H*np.arange(numFrames)/float(fs)\n",
    "    binFreq = fs*np.arange(N*maxplotfreq/fs)/N\n",
    "    plt.pcolormesh(frmTime, binFreq, np.transpose(np.diff(pX[:,:int(N*maxplotfreq/fs+1)],axis=1)))\n",
    "    plt.xlabel('time (sec)')\n",
    "    plt.ylabel('frequency (Hz)')\n",
    "    plt.title('phase spectrogram (derivative)')\n",
    "    plt.autoscale(tight=True)\n",
    "\n",
    "    # plot the output sound\n",
    "    plt.subplot(4,1,4)\n",
    "    plt.plot(np.arange(y.size)/float(fs), y)\n",
    "    plt.axis([0, y.size/float(fs), min(y), max(y)])\n",
    "    plt.ylabel('amplitude')\n",
    "    plt.xlabel('time (sec)')\n",
    "    plt.title('output sound: y')\n",
    "\n",
    "    plt.tight_layout()\n",
    "    plt.ion()\n",
    "    plt.show()\n",
    "    \n",
    "    display(ipd.Audio(yR, rate=fs))"
   ]
  },
  {
   "cell_type": "markdown",
   "metadata": {},
   "source": [
    "# Playground\n",
    "\n",
    "Here you can play with a few different inputs, change some parameters and listen to the results"
   ]
  },
  {
   "cell_type": "code",
   "execution_count": 7,
   "metadata": {},
   "outputs": [
    {
     "data": {
      "application/vnd.jupyter.widget-view+json": {
       "model_id": "010c601595034e218e33a29621c43454",
       "version_major": 2,
       "version_minor": 0
      },
      "text/html": [
       "<p>Failed to display Jupyter Widget of type <code>interactive</code>.</p>\n",
       "<p>\n",
       "  If you're reading this message in the Jupyter Notebook or JupyterLab Notebook, it may mean\n",
       "  that the widgets JavaScript is still loading. If this message persists, it\n",
       "  likely means that the widgets JavaScript library is either not installed or\n",
       "  not enabled. See the <a href=\"https://ipywidgets.readthedocs.io/en/stable/user_install.html\">Jupyter\n",
       "  Widgets Documentation</a> for setup instructions.\n",
       "</p>\n",
       "<p>\n",
       "  If you're reading this message in another frontend (for example, a static\n",
       "  rendering on GitHub or <a href=\"https://nbviewer.jupyter.org/\">NBViewer</a>),\n",
       "  it may mean that your frontend doesn't currently support widgets.\n",
       "</p>\n"
      ],
      "text/plain": [
       "interactive(children=(Dropdown(description='Audio File:', options=('audio/speech-female.wav', 'audio/sine-440.wav', 'audio/speech-male.wav', 'audio/singing-female.wav', 'audio/sine-490.wav', 'audio/sine-440-490.wav', 'audio/cello-phrase.wav', 'audio/oboe-A4.wav', 'audio/sax-phrase-short.wav'), value='audio/speech-female.wav'), Output()), _dom_classes=('widget-interact',))"
      ]
     },
     "metadata": {},
     "output_type": "display_data"
    },
    {
     "data": {
      "application/vnd.jupyter.widget-view+json": {
       "model_id": "6e242843c33240a1af1537fff5b250fc",
       "version_major": 2,
       "version_minor": 0
      },
      "text/html": [
       "<p>Failed to display Jupyter Widget of type <code>interactive</code>.</p>\n",
       "<p>\n",
       "  If you're reading this message in the Jupyter Notebook or JupyterLab Notebook, it may mean\n",
       "  that the widgets JavaScript is still loading. If this message persists, it\n",
       "  likely means that the widgets JavaScript library is either not installed or\n",
       "  not enabled. See the <a href=\"https://ipywidgets.readthedocs.io/en/stable/user_install.html\">Jupyter\n",
       "  Widgets Documentation</a> for setup instructions.\n",
       "</p>\n",
       "<p>\n",
       "  If you're reading this message in another frontend (for example, a static\n",
       "  rendering on GitHub or <a href=\"https://nbviewer.jupyter.org/\">NBViewer</a>),\n",
       "  it may mean that your frontend doesn't currently support widgets.\n",
       "</p>\n"
      ],
      "text/plain": [
       "interactive(children=(SelectionSlider(description='FFT Size', index=6, options=(16, 32, 64, 128, 256, 512, 1024, 2048, 4096), value=1024), SelectionSlider(description='Window Size', index=5, options=(16, 32, 64, 128, 256, 512, 1024, 2048, 4096), value=512), SelectionSlider(description='Hop Size', index=3, options=(16, 32, 64, 128, 256, 512, 1024, 2048, 4096), value=128), Dropdown(description='Window Type', options=('blackmanharris', 'blackman', 'hamming', 'hanning', 'rectangular'), value='blackmanharris'), Button(description='Run Interact', style=ButtonStyle()), Output()), _dom_classes=('widget-interact',))"
      ]
     },
     "metadata": {},
     "output_type": "display_data"
    },
    {
     "data": {
      "text/plain": [
       "<function __main__.stft_system>"
      ]
     },
     "execution_count": 7,
     "metadata": {},
     "output_type": "execute_result"
    }
   ],
   "source": [
    "def read_input_file(p_iF):\n",
    "    global iF, fs, xR, x\n",
    "    iF = p_iF\n",
    "    # Read the input file now\n",
    "    fs, xR = read(iF)\n",
    "    x = np.float32(xR)/norm_fact[xR.dtype.name]\n",
    "    display(ipd.Audio(xR, rate=fs))\n",
    "    \n",
    "files = glob.glob('audio/*.wav')\n",
    "interact(read_input_file, p_iF = widgets.Dropdown(options=files,description='Audio File:'))\n",
    "interact_manual(stft_system,\n",
    "         p_wN = widgets.Dropdown(options=['blackmanharris', 'blackman', 'hamming', 'hanning', 'rectangular' ],description='Window Type'),\n",
    "         p_M=widgets.SelectionSlider(options=[2**i for i in range(4,13)],value=512,description='Window Size'),\n",
    "         p_N=widgets.SelectionSlider(options=[2**i for i in range(4,13)],value=1024,description='FFT Size'), \n",
    "         p_H=widgets.SelectionSlider(options=[2**i for i in range(4,13)],value=128,description='Hop Size')) "
   ]
  },
  {
   "cell_type": "code",
   "execution_count": null,
   "metadata": {},
   "outputs": [],
   "source": []
  }
 ],
 "metadata": {
  "kernelspec": {
   "display_name": "Python 3",
   "language": "python",
   "name": "python3"
  },
  "language_info": {
   "codemirror_mode": {
    "name": "ipython",
    "version": 3
   },
   "file_extension": ".py",
   "mimetype": "text/x-python",
   "name": "python",
   "nbconvert_exporter": "python",
   "pygments_lexer": "ipython3",
   "version": "3.6.4"
  }
 },
 "nbformat": 4,
 "nbformat_minor": 2
}
