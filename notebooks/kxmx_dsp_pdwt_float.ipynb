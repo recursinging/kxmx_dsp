{
 "cells": [
  {
   "cell_type": "markdown",
   "metadata": {},
   "source": [
    "# PDWT Model #\n",
    "\n",
    "Hanjo's algo\n",
    "\n",
    "First we set up the environment."
   ]
  },
  {
   "cell_type": "code",
   "execution_count": 1,
   "metadata": {
    "scrolled": true
   },
   "outputs": [],
   "source": [
    "%matplotlib inline\n",
    "\n",
    "import numpy as np\n",
    "import copy\n",
    "import math\n",
    "import os\n",
    "import glob\n",
    "import matplotlib.pyplot as plt\n",
    "from scipy.io.wavfile import read\n",
    "import IPython.display as ipd\n",
    "import ipywidgets as widgets\n",
    "from ipywidgets import interact, interact_manual, interactive\n",
    "\n",
    "INT16_FAC = (2**15)-1\n",
    "INT32_FAC = (2**31)-1\n",
    "INT64_FAC = (2**63)-1\n",
    "norm_fact = {'int16':INT16_FAC, 'int32':INT32_FAC, 'int64':INT64_FAC,'float32':1.0,'float64':1.0}\n",
    "\n",
    "global iF  # The input file name\n",
    "global xR  # The raw input samples \n",
    "global x   # The input samples normalized\n",
    "global fs  # The input sample rate"
   ]
  },
  {
   "cell_type": "markdown",
   "metadata": {},
   "source": [
    "This is the heap state of the algorithm. This can be considered the workspace of the algorithm, and is not yet optimized "
   ]
  },
  {
   "cell_type": "code",
   "execution_count": 2,
   "metadata": {},
   "outputs": [],
   "source": [
    "kxmx_pdwt_f_state = {\n",
    "    'sample_rate': 0,\n",
    "    'current_index': 0,\n",
    "    'block_size': 0,\n",
    "    'spectrum_size': 0,\n",
    "    'golden_f0': 0.0,\n",
    "    'lowest_frequency': 0.0,\n",
    "    'highest_frequency': 0.0,\n",
    "    'frequencies': [],\n",
    "    'fourier_coef_r': [],\n",
    "    'fourier_coef_i': [],\n",
    "    'spectrum_r': [],\n",
    "    'spectrum_i': [],\n",
    "    'spectrum_magnitude': [],\n",
    "    'spectrum_phase': [],\n",
    "    'last_spectrum_r': [],\n",
    "    'last_spectrum_i': [],\n",
    "    'golden_samples': [],\n",
    "    'samples_in': [],\n",
    "    'samples_out': []\n",
    "}"
   ]
  },
  {
   "cell_type": "markdown",
   "metadata": {},
   "source": [
    "This is the state initialization function.  This allocates and populates the memory required by the state struct, and initializes some values, including the Fourier coefficients. \n",
    "\n",
    "This is intended to be called only once, making performance optimization less important"
   ]
  },
  {
   "cell_type": "code",
   "execution_count": 3,
   "metadata": {},
   "outputs": [],
   "source": [
    "def kxmx_pdwt_f_init(sample_rate, block_size, spectrum_size, lowest_frequency, highest_frequency, golden_samples, golden_f0):\n",
    "    state = copy.deepcopy(kxmx_pdwt_f_state)\n",
    "    \n",
    "    # Start out by initializing our state parameters\n",
    "    state['current_index'] = 0\n",
    "    state['sample_rate'] = sample_rate\n",
    "    state['block_size'] = block_size\n",
    "    state['spectrum_size'] = spectrum_size\n",
    "    state['lowest_frequency'] = lowest_frequency\n",
    "    state['highest_frequency'] = highest_frequency\n",
    "    state['golden_f0'] = golden_f0\n",
    "\n",
    "    state['golden_samples'] = golden_samples\n",
    "\n",
    "    # Allocate the memory needed for the sample buffers\n",
    "    state['samples_in'] = np.zeros(block_size, np.float32)\n",
    "    state['samples_out'] = np.zeros(block_size, np.float32)\n",
    "\n",
    "    # Allocate the memory needed for the spectrums\n",
    "    state['spectrum_r'] = np.zeros(spectrum_size, np.float32)\n",
    "    state['spectrum_i'] = np.zeros(spectrum_size, np.float32)\n",
    "    state['spectrum_magnitude'] = np.zeros(spectrum_size, np.float32)\n",
    "    state['spectrum_phase'] = np.zeros(spectrum_size, np.float32)\n",
    "    state['last_spectrum_r'] = np.zeros(spectrum_size, np.float32)\n",
    "    state['last_spectrum_i'] = np.zeros(spectrum_size, np.float32)\n",
    "\n",
    "    # Allocate the memory needed for the frequencies\n",
    "    state['frequencies'] = np.zeros(spectrum_size, np.float32)\n",
    "\n",
    "    # Calculate the frequencies\n",
    "    for i in range(0, spectrum_size):\n",
    "        state['frequencies'][i] = i * \\\n",
    "            ((highest_frequency - lowest_frequency) /\n",
    "             float(spectrum_size)) + lowest_frequency\n",
    "\n",
    "    # Allocate the memory needed for the fourier coefficients\n",
    "    state['fourier_coef_r'] = np.zeros(spectrum_size, np.float32)\n",
    "    state['fourier_coef_i'] = np.zeros(spectrum_size, np.float32)\n",
    "\n",
    "    # Calculate the fourier coefficients\n",
    "    for i in range(0, spectrum_size):\n",
    "        state['fourier_coef_r'][i] = math.sin(\n",
    "            -2 * math.pi * state['frequencies'][i] / spectrum_size)\n",
    "        state['fourier_coef_i'][i] = math.cos(\n",
    "            -2 * math.pi * state['frequencies'][i] / spectrum_size)\n",
    "\n",
    "    # Return the intialized state object\n",
    "    return state"
   ]
  },
  {
   "cell_type": "markdown",
   "metadata": {},
   "source": [
    "This is the tight loop method, called once per sample (Block operation is not yet implemented).  Here is where performance is most important."
   ]
  },
  {
   "cell_type": "code",
   "execution_count": 4,
   "metadata": {},
   "outputs": [],
   "source": [
    "def kxmx_pdwt_f_update(sample, state):\n",
    "    S = sample\n",
    "    N = state['spectrum_size']\n",
    "    R = state['spectrum_r']\n",
    "    I = state['spectrum_i']\n",
    "    mX = state['spectrum_magnitude']\n",
    "    i = state['current_index']\n",
    "    x = state['samples_in']\n",
    "    old_S = x[i]\n",
    "    x[i] = S\n",
    "    S_delta = S - old_S\n",
    "\n",
    "    for j in range(0, N):\n",
    "        coef_i = (j * i) % N\n",
    "        coef_r = state['fourier_coef_r'][coef_i]\n",
    "        coef_i = state['fourier_coef_i'][coef_i]\n",
    "        R[j] = R[j] + coef_r * S_delta\n",
    "        I[j] = I[j] + coef_i * S_delta\n",
    "        mX[j] = math.sqrt(math.pow(R[j], 2) + math.pow(I[j], 2))\n",
    "\n",
    "    i += 1\n",
    "    if i >= state['block_size']:\n",
    "        i = 0\n",
    "    \n",
    "    state['current_index'] = i\n"
   ]
  },
  {
   "cell_type": "markdown",
   "metadata": {},
   "source": [
    "This is the analysis method, which calles the update function every sample, and collects the magnitude spectrum for plotting."
   ]
  },
  {
   "cell_type": "code",
   "execution_count": 5,
   "metadata": {},
   "outputs": [],
   "source": [
    "def pdwt_analysis(x, state):\n",
    "    xmX = []                                       # Initialise empty list for mX\n",
    "    for i in range(0, x.size):\n",
    "        kxmx_pdwt_f_update(x[i], state)\n",
    "        xmX.append(np.array(state['spectrum_magnitude'])) # Append output to list\n",
    "    xmX = np.array(xmX)                             \n",
    "    return xmX\n",
    "    "
   ]
  },
  {
   "cell_type": "markdown",
   "metadata": {},
   "source": [
    "This is the system method, the parameters are handed off by the UI widgets below, allowing the above methods to be run with different parameters.  The resulting magnitude spectrum is pl"
   ]
  },
  {
   "cell_type": "code",
   "execution_count": 6,
   "metadata": {},
   "outputs": [],
   "source": [
    "def pdwt_system(p_N, p_fFrom, p_fTo):\n",
    "    global N, M, H, wN, w, mX, pX, y, yR\n",
    "    \n",
    "    N = p_N\n",
    "    fFrom = p_fFrom\n",
    "    fTo = p_fTo\n",
    "    \n",
    "    state = kxmx_pdwt_f_init(fs, N, N, fFrom, fTo, 0, 440.0)\n",
    "\n",
    "    mX = pdwt_analysis(x, state)\n",
    "    \n",
    "     # create figure to plot\n",
    "    plt.figure(figsize=(17, 10))\n",
    "    \n",
    "     # frequency range to plot\n",
    "    maxplotfreq = fTo\n",
    "    \n",
    "    # plot magnitude spectrogram\n",
    "    numFrames = int(mX[:,0].size)\n",
    "    frmTime = np.arange(numFrames)/float(fs)\n",
    "    binFreq = fs*np.arange(N*maxplotfreq/fs)/N\n",
    "    plt.pcolormesh(frmTime, binFreq, np.transpose(mX[:,:int(N*maxplotfreq/fs+1)]))\n",
    "    plt.xlabel('time (sec)')\n",
    "    plt.ylabel('frequency (Hz)')\n",
    "    plt.title('magnitude spectrogram')\n",
    "    plt.autoscale(tight=True)"
   ]
  },
  {
   "cell_type": "markdown",
   "metadata": {},
   "source": [
    "# Playground\n",
    "\n",
    "Here you can play with a few different inputs, change some parameters"
   ]
  },
  {
   "cell_type": "code",
   "execution_count": 7,
   "metadata": {},
   "outputs": [
    {
     "data": {
      "application/vnd.jupyter.widget-view+json": {
       "model_id": "cacef96e7c74450eb02b72e140df91ca",
       "version_major": 2,
       "version_minor": 0
      },
      "text/html": [
       "<p>Failed to display Jupyter Widget of type <code>interactive</code>.</p>\n",
       "<p>\n",
       "  If you're reading this message in the Jupyter Notebook or JupyterLab Notebook, it may mean\n",
       "  that the widgets JavaScript is still loading. If this message persists, it\n",
       "  likely means that the widgets JavaScript library is either not installed or\n",
       "  not enabled. See the <a href=\"https://ipywidgets.readthedocs.io/en/stable/user_install.html\">Jupyter\n",
       "  Widgets Documentation</a> for setup instructions.\n",
       "</p>\n",
       "<p>\n",
       "  If you're reading this message in another frontend (for example, a static\n",
       "  rendering on GitHub or <a href=\"https://nbviewer.jupyter.org/\">NBViewer</a>),\n",
       "  it may mean that your frontend doesn't currently support widgets.\n",
       "</p>\n"
      ],
      "text/plain": [
       "interactive(children=(Dropdown(description='Audio File:', options=('audio/sine-440.wav', 'audio/speech-male.wav', 'audio/singing-female.wav', 'audio/sine-440-490.wav', 'audio/cello-phrase.wav', 'audio/oboe-A4.wav', 'audio/sax-phrase-short.wav'), value='audio/sine-440.wav'), Output()), _dom_classes=('widget-interact',))"
      ]
     },
     "metadata": {},
     "output_type": "display_data"
    },
    {
     "data": {
      "application/vnd.jupyter.widget-view+json": {
       "model_id": "c418c1edb12d4f54a8d5439a2d627d8d",
       "version_major": 2,
       "version_minor": 0
      },
      "text/html": [
       "<p>Failed to display Jupyter Widget of type <code>interactive</code>.</p>\n",
       "<p>\n",
       "  If you're reading this message in the Jupyter Notebook or JupyterLab Notebook, it may mean\n",
       "  that the widgets JavaScript is still loading. If this message persists, it\n",
       "  likely means that the widgets JavaScript library is either not installed or\n",
       "  not enabled. See the <a href=\"https://ipywidgets.readthedocs.io/en/stable/user_install.html\">Jupyter\n",
       "  Widgets Documentation</a> for setup instructions.\n",
       "</p>\n",
       "<p>\n",
       "  If you're reading this message in another frontend (for example, a static\n",
       "  rendering on GitHub or <a href=\"https://nbviewer.jupyter.org/\">NBViewer</a>),\n",
       "  it may mean that your frontend doesn't currently support widgets.\n",
       "</p>\n"
      ],
      "text/plain": [
       "interactive(children=(IntSlider(value=128, description='Num. Freqs.', max=1024, min=8), FloatSlider(value=100.0, description='Freq. From', max=5000.0, min=10.0, step=1.0), FloatSlider(value=1000.0, description='Freq. To', max=5000.0, min=10.0, step=1.0), Button(description='Run Interact', style=ButtonStyle()), Output()), _dom_classes=('widget-interact',))"
      ]
     },
     "metadata": {},
     "output_type": "display_data"
    },
    {
     "data": {
      "text/plain": [
       "<function __main__.pdwt_system>"
      ]
     },
     "execution_count": 7,
     "metadata": {},
     "output_type": "execute_result"
    }
   ],
   "source": [
    "def read_input_file(p_iF):\n",
    "    global iF, fs, xR, x\n",
    "    iF = p_iF\n",
    "    # Read the input file now\n",
    "    fs, xR = read(iF)\n",
    "    x = np.float32(xR)/norm_fact[xR.dtype.name]\n",
    "    display(ipd.Audio(xR, rate=fs))\n",
    "    \n",
    "files = glob.glob('audio/*.wav')\n",
    "interact(read_input_file, p_iF = widgets.Dropdown(options=files,description='Audio File:'))\n",
    "interact_manual(pdwt_system, \n",
    "                p_N=widgets.IntSlider(value=128,min=8,max=1024,step=1,description='Num. Freqs.'),\n",
    "                p_fFrom=widgets.FloatSlider(value=100.0,min=10.0,max=5000.0,step=1,description='Freq. From'),\n",
    "                p_fTo=widgets.FloatSlider(value=1000.0,min=10.0,max=5000.0,step=1,description='Freq. To')) "
   ]
  },
  {
   "cell_type": "code",
   "execution_count": null,
   "metadata": {},
   "outputs": [],
   "source": []
  }
 ],
 "metadata": {
  "kernelspec": {
   "display_name": "Python 3",
   "language": "python",
   "name": "python3"
  },
  "language_info": {
   "codemirror_mode": {
    "name": "ipython",
    "version": 3
   },
   "file_extension": ".py",
   "mimetype": "text/x-python",
   "name": "python",
   "nbconvert_exporter": "python",
   "pygments_lexer": "ipython3",
   "version": "3.6.4"
  }
 },
 "nbformat": 4,
 "nbformat_minor": 2
}
